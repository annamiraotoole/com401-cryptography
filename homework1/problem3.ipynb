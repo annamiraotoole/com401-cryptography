{
 "cells": [
  {
   "cell_type": "code",
   "execution_count": 13,
   "metadata": {},
   "outputs": [],
   "source": [
    "# Parameters\n",
    "Q3_g=18897172015605387895108229785692294238197575884158182212205468678506383277799\n",
    "Q3_p=65358582236399098140383852530576291366163143046961680710706395821174671515157\n",
    "Q3_n=8\n",
    "Q3_known_pt=78\n",
    "Q3_known_cts=[5676386605315804584285148609335150819706793685416121765497966034887108657117, 50249368234919986168796974100108624662872780540885927535104544802383960629305, 33818669301351091089652029278744096597948584440172053184106926031365245429908, 6515721526050850080645847057691288706290851281809344455627215423736067832195]\n",
    "Q3_ct_aes=b'?\\x87\\xde\\x08\\x88\\x13\\x81&E\\xf7\\xda\\xa3\\xca-{y\\x86~\\xc4#B\\t\\xee('\n",
    "Q3_nonce=b'UV\\xc7\\xed\\x006\\x88\\xfb\\x17\\x8c\\xd7\\xfb8\\xcb^\\xc9'\n",
    "Q3_tag=b']\\xc9\\x9d1\\x02\\xc5\\x9e\\x97\\x0c\\x96W\\x1c87\\x98\\xf8'\n",
    "Q3_cts=[2212220003645161047118250054675234610111250086078300753950756458606619728780, 6334369310159008946138514926965514331980153259058079300628964573748606509700, 64337036483497463971927986614604878159243722915670813949800342932491419964158, 26739473243281312841840449826122162262939988875248297676528771160077422892726, 110306531764010324977596428644237133636086569051912149030669260288205857172695, 99478178321633314206996741664987910392049954709867947770588699487971817565179, 18987744674297229904973628492316158434774910934713595153581417420284575444406, 95606411291524014693638036006816320968526562421544330508554815203888143727753, 17102231756549276458866025957605951090808044941449201250557505399454652747002, 103673889060342255958430567025445508578149365090325067308771134910991097009316, 81162912547087759615997354829978818465523004400676285819886439439499409094013, 101767620860822630057173171981016652725088398122356397393413663291687353984437, 14966767621750981597628892643326996960665186892500932128369207302516720566709, 13668884421213140658093203516119525467434782686553078755378681847096871733651, 65183129014946501225017542698042397880574141006916204237979671242440001106134, 27495585700003633699052664863654973057539477526261420883264814255452181143465, 499408186781500831818168711031787925586618359669890929756758473854397623738, 2163946948065985511805220870277669495784506594505495106441821377095435280946, 43206402739226843721524913407393853879743760336334921800783636118657035014107, 11521859786044972782252740737608642282956689965172202100904255360987833604533, 6044211971302521307441618327570799690837149938170480348638824529429288465469, 28792568996201297948438965352292259819331923650695003668251460899518317188890, 41512941451484986939175971279539442788848991600846982656677760189009051522519, 109133672106137358942063839586600929198644675575230271513566961049252208575933, 13826110357608558235209064241558380567478986855521875945331655426501171692909, 9283496092842331642263535298565805930070151380997431444244331264325744828051, 95517949628318095546800387279597142045101821090192339291857657686992194779445, 80896669682923587772954745482448188628283368457194130660875570110471591257084, 2156176098907303592932129294359450724768269264203408824664906563136830453751, 85227875757127745156077558356568299892268986321920038492397915084349370018199, 18483576900087719998456780194995586472070778465876155377207053568470864384841, 28874514827789938484604946389060765868165510629989348667429920811873588375473, 2926048046586601440239126447910131135105273486783448601600627040030781493070, 57992366874202095637625180480397015781140815257276412587678528544668816345548, 57986084753025438976765196875722190560418270331974575263502061294599126769424, 16034148128704678006960854089145859128107335275085442164023625458625311477214, 106529562944439899179618541045793114541705832357990690872562845990842324280007, 80061486788411698155151865122037287481244425846876665588446202657056555141067, 93092057150402918913950131072439128477591180999175683787963432485498265015337, 14568140927714249818194047961939205809574378368241563525730600041705075229266, 37772317379563359933684296710989669598621004806804972672273836507838926405942, 112790583823408201615391884366100959343306097689775464712844908771912353246377, 105940672512780691337248733143422769584215803112730458642956457963133709720609, 43440111792597468980525997828104514440713088427828461165218951542764060238009, 96013037466606228701802809897218768160799118864675699666522942870632554201701, 31565271458433226880915360258763568651434073393504836462253037083621472985926, 31083117640327973889527806638767703646083397401705759602681959418657154453696, 86536004213504377464797694424931774966816610235526769127489649984047142999714, 50825833095174944392587549995444468866607388794597271509827633758459702402454, 86932817240463283173859414715002683399333462303275630077876890470368756198735, 81822620849466408543784635274865962826761718099225008699725020839098972551826, 54128617331716173103617472277778890794007334910209248739033432145561630362627, 79728772724568553756885751180575419971064839574257671178227430549857670491116, 89529712394350138824182504597622567599947567412299326998754523846838308900777, 53289602545591973917282351884469036992788885531882725019316601335135395185020, 84303805478128731382685464448207125598542494616398469697369237562229877577697, 65219385561165099128628160136894219639515375314218336337068831761225758272507, 115526068811079444125738113844021380225438724008522734427234003894690034972374, 4647575752045155580785722470452870748187791171248069961276376523830533548706, 53509889504818990290569149145880089049659674676074284592167189338931387983540, 53579977953152540557156357063131480828362083228425092747786371551024208006830, 74622813052420980619219927102096773046254785940003729744042298161970259171655, 22926814752547547046352528509275514648465208075601251476777018326538467017765, 45634110918810108983618628904660027164200489430148251505887765846526159871160]"
   ]
  },
  {
   "cell_type": "code",
   "execution_count": 97,
   "metadata": {},
   "outputs": [],
   "source": [
    "# Helper functions\n",
    "def extract_bit(a, j, length=256):\n",
    "    bits = ZZ(a).binary()\n",
    "    if j < length - len(bits):\n",
    "        return 0\n",
    "    return int(bits[::-1][length - j - 1])\n",
    "\n",
    "def extr_bits(a, j, length=256):\n",
    "    return [extract_bit(a, j, length=length), extract_bit(a, j+1, length=length)]\n",
    "\n",
    "def from_bits_to_int(list):\n",
    "    a = list[0]*2 + list[1]\n",
    "    return ZZ(a)"
   ]
  },
  {
   "cell_type": "code",
   "execution_count": 99,
   "metadata": {},
   "outputs": [
    {
     "data": {
      "text/plain": [
       "<class 'sage.rings.integer.Integer'>"
      ]
     },
     "execution_count": 99,
     "metadata": {},
     "output_type": "execute_result"
    }
   ],
   "source": [
    "type(from_bits_to_int([1,0]))"
   ]
  },
  {
   "cell_type": "code",
   "execution_count": 79,
   "metadata": {},
   "outputs": [
    {
     "data": {
      "text/plain": [
       "4"
      ]
     },
     "execution_count": 79,
     "metadata": {},
     "output_type": "execute_result"
    }
   ],
   "source": [
    "g = Mod(Q3_g, Q3_p)\n",
    "g.multiplicative_order()"
   ]
  },
  {
   "cell_type": "code",
   "execution_count": 35,
   "metadata": {},
   "outputs": [
    {
     "name": "stdout",
     "output_type": "stream",
     "text": [
      "1\n",
      "0b1\n",
      "[0, 0]\n",
      "18897172015605387895108229785692294238197575884158182212205468678506383277799\n",
      "0b10100111000111011010111001101010110101011101010000101101101100101010001010010010001100110100000110011010100110110100011000110111000111100110001010001111111000010011110000000110100111111001101011001101010010010100111000101001011100011010011111111011100111\n",
      "[1, 1]\n",
      "65358582236399098140383852530576291366163143046961680710706395821174671515156\n",
      "0b1001000001111111101001011000100001010000100010100110010101101101100100101011011100000110101101011100000010110100111110010101001101010110111101101010110110111001000001110101011010011001001101011011110110100100100000000011001000000000011001111001111000010100\n",
      "[0, 1]\n",
      "46461410220793710245275622744883997127965567162803498498500927142668288237358\n",
      "0b110011010111000001110011110110110011011000101010101101000000000111010100001001001111001111001010101101000001110001001111100010110001111010111100000100111000000101110000101010011110001010011110000101001010010001011001010011110100011111111011001111100101110\n",
      "[1, 0]\n"
     ]
    }
   ],
   "source": [
    "for i in range(4):\n",
    "    print(g^i)\n",
    "    print(bin(g^i))\n",
    "    print(extr_bits(g^i,Q3_n))"
   ]
  },
  {
   "cell_type": "code",
   "execution_count": 102,
   "metadata": {},
   "outputs": [
    {
     "data": {
      "text/plain": [
       "<class 'sage.rings.integer.Integer'>"
      ]
     },
     "execution_count": 102,
     "metadata": {},
     "output_type": "execute_result"
    }
   ],
   "source": [
    "type(ZZ(4))"
   ]
  },
  {
   "cell_type": "code",
   "execution_count": 105,
   "metadata": {},
   "outputs": [
    {
     "name": "stdout",
     "output_type": "stream",
     "text": [
      "<class 'int'>\n",
      "<class 'sage.rings.integer.Integer'>\n"
     ]
    },
    {
     "ename": "TypeError",
     "evalue": "unable to coerce <class 'list'> to an integer",
     "output_type": "error",
     "traceback": [
      "\u001b[0;31m---------------------------------------------------------------------------\u001b[0m",
      "\u001b[0;31mTypeError\u001b[0m                                 Traceback (most recent call last)",
      "Cell \u001b[0;32mIn [105], line 14\u001b[0m\n\u001b[1;32m     10\u001b[0m \u001b[38;5;66;03m# print(type(K_EXP))\u001b[39;00m\n\u001b[1;32m     11\u001b[0m \u001b[38;5;66;03m# print(type(g ^ 2))\u001b[39;00m\n\u001b[1;32m     12\u001b[0m \u001b[38;5;66;03m# print(type(g))\u001b[39;00m\n\u001b[1;32m     13\u001b[0m \u001b[38;5;28mprint\u001b[39m(\u001b[38;5;28mtype\u001b[39m(from_bits_to_int(extr_bits(g\u001b[38;5;241m*\u001b[39m\u001b[38;5;241m*\u001b[39m(K_EXP \u001b[38;5;241m+\u001b[39m mj \u001b[38;5;241m+\u001b[39m Integer(\u001b[38;5;241m2\u001b[39m)\u001b[38;5;241m*\u001b[39m(j\u001b[38;5;241m+\u001b[39mInteger(\u001b[38;5;241m1\u001b[39m))),Q3_n))))\n\u001b[0;32m---> 14\u001b[0m \u001b[38;5;28;01mif\u001b[39;00m \u001b[43mextr_bits\u001b[49m\u001b[43m(\u001b[49m\u001b[43mQ3_known_cts\u001b[49m\u001b[43m,\u001b[49m\u001b[43mQ3_n\u001b[49m\u001b[43m)\u001b[49m \u001b[38;5;241m==\u001b[39m (ZZ(K_XOR_static) \u001b[38;5;241m^\u001b[39m ZZ(from_bits_to_int(extr_bits(g\u001b[38;5;241m*\u001b[39m\u001b[38;5;241m*\u001b[39m(K_EXP \u001b[38;5;241m+\u001b[39m mj \u001b[38;5;241m+\u001b[39m Integer(\u001b[38;5;241m2\u001b[39m)\u001b[38;5;241m*\u001b[39m(j\u001b[38;5;241m+\u001b[39mInteger(\u001b[38;5;241m1\u001b[39m))),Q3_n)))):\n\u001b[1;32m     15\u001b[0m     key_pairs\u001b[38;5;241m.\u001b[39mappend((K_EXP, K_XOR_static))\n",
      "Cell \u001b[0;32mIn [97], line 9\u001b[0m, in \u001b[0;36mextr_bits\u001b[0;34m(a, j, length)\u001b[0m\n\u001b[1;32m      8\u001b[0m \u001b[38;5;28;01mdef\u001b[39;00m \u001b[38;5;21mextr_bits\u001b[39m(a, j, length\u001b[38;5;241m=\u001b[39mInteger(\u001b[38;5;241m256\u001b[39m)):\n\u001b[0;32m----> 9\u001b[0m     \u001b[38;5;28;01mreturn\u001b[39;00m [\u001b[43mextract_bit\u001b[49m\u001b[43m(\u001b[49m\u001b[43ma\u001b[49m\u001b[43m,\u001b[49m\u001b[43m \u001b[49m\u001b[43mj\u001b[49m\u001b[43m,\u001b[49m\u001b[43m \u001b[49m\u001b[43mlength\u001b[49m\u001b[38;5;241;43m=\u001b[39;49m\u001b[43mlength\u001b[49m\u001b[43m)\u001b[49m, extract_bit(a, j\u001b[38;5;241m+\u001b[39mInteger(\u001b[38;5;241m1\u001b[39m), length\u001b[38;5;241m=\u001b[39mlength)]\n",
      "Cell \u001b[0;32mIn [97], line 3\u001b[0m, in \u001b[0;36mextract_bit\u001b[0;34m(a, j, length)\u001b[0m\n\u001b[1;32m      2\u001b[0m \u001b[38;5;28;01mdef\u001b[39;00m \u001b[38;5;21mextract_bit\u001b[39m(a, j, length\u001b[38;5;241m=\u001b[39mInteger(\u001b[38;5;241m256\u001b[39m)):\n\u001b[0;32m----> 3\u001b[0m     bits \u001b[38;5;241m=\u001b[39m \u001b[43mZZ\u001b[49m\u001b[43m(\u001b[49m\u001b[43ma\u001b[49m\u001b[43m)\u001b[49m\u001b[38;5;241m.\u001b[39mbinary()\n\u001b[1;32m      4\u001b[0m     \u001b[38;5;28;01mif\u001b[39;00m j \u001b[38;5;241m<\u001b[39m length \u001b[38;5;241m-\u001b[39m \u001b[38;5;28mlen\u001b[39m(bits):\n\u001b[1;32m      5\u001b[0m         \u001b[38;5;28;01mreturn\u001b[39;00m Integer(\u001b[38;5;241m0\u001b[39m)\n",
      "File \u001b[0;32m/private/var/tmp/sage-10.1-current/local/var/lib/sage/venv-python3.11.1/lib/python3.11/site-packages/sage/structure/parent.pyx:901\u001b[0m, in \u001b[0;36msage.structure.parent.Parent.__call__ (build/cythonized/sage/structure/parent.c:9450)\u001b[0;34m()\u001b[0m\n\u001b[1;32m    899\u001b[0m if mor is not None:\n\u001b[1;32m    900\u001b[0m     if no_extra_args:\n\u001b[0;32m--> 901\u001b[0m         return mor._call_(x)\n\u001b[1;32m    902\u001b[0m     else:\n\u001b[1;32m    903\u001b[0m         return mor._call_with_args(x, args, kwds)\n",
      "File \u001b[0;32m/private/var/tmp/sage-10.1-current/local/var/lib/sage/venv-python3.11.1/lib/python3.11/site-packages/sage/structure/coerce_maps.pyx:163\u001b[0m, in \u001b[0;36msage.structure.coerce_maps.DefaultConvertMap_unique._call_ (build/cythonized/sage/structure/coerce_maps.c:4838)\u001b[0;34m()\u001b[0m\n\u001b[1;32m    161\u001b[0m             print(type(C), C)\n\u001b[1;32m    162\u001b[0m             print(type(C._element_constructor), C._element_constructor)\n\u001b[0;32m--> 163\u001b[0m         raise\n\u001b[1;32m    164\u001b[0m \n\u001b[1;32m    165\u001b[0m cpdef Element _call_with_args(self, x, args=(), kwds={}):\n",
      "File \u001b[0;32m/private/var/tmp/sage-10.1-current/local/var/lib/sage/venv-python3.11.1/lib/python3.11/site-packages/sage/structure/coerce_maps.pyx:158\u001b[0m, in \u001b[0;36msage.structure.coerce_maps.DefaultConvertMap_unique._call_ (build/cythonized/sage/structure/coerce_maps.c:4730)\u001b[0;34m()\u001b[0m\n\u001b[1;32m    156\u001b[0m cdef Parent C = self._codomain\n\u001b[1;32m    157\u001b[0m try:\n\u001b[0;32m--> 158\u001b[0m     return C._element_constructor(x)\n\u001b[1;32m    159\u001b[0m except Exception:\n\u001b[1;32m    160\u001b[0m     if print_warnings:\n",
      "File \u001b[0;32m/private/var/tmp/sage-10.1-current/local/var/lib/sage/venv-python3.11.1/lib/python3.11/site-packages/sage/rings/integer.pyx:710\u001b[0m, in \u001b[0;36msage.rings.integer.Integer.__init__ (build/cythonized/sage/rings/integer.c:6878)\u001b[0;34m()\u001b[0m\n\u001b[1;32m    708\u001b[0m                 return\n\u001b[1;32m    709\u001b[0m \n\u001b[0;32m--> 710\u001b[0m             raise TypeError(\"unable to coerce %s to an integer\" % type(x))\n\u001b[1;32m    711\u001b[0m \n\u001b[1;32m    712\u001b[0m def __reduce__(self):\n",
      "\u001b[0;31mTypeError\u001b[0m: unable to coerce <class 'list'> to an integer"
     ]
    }
   ],
   "source": [
    "# Find K_EXP and (K_XOR[Q3_n],K_XOR[Q3_(n+1)])\n",
    "key_pairs = []\n",
    "\n",
    "for K_EXP in range(ZZ(4)):\n",
    "    for K_XOR_static in range(ZZ(4)):\n",
    "        for j in range(4):\n",
    "            mj_list = extr_bits(Q3_known_pt,2*j,length=8)\n",
    "            mj = from_bits_to_int(mj_list)          # mj = mj_list[0]*2 + mj_list[1]\n",
    "            print(type(K_XOR_static))\n",
    "            # print(type(K_EXP))\n",
    "            # print(type(g ^ 2))\n",
    "            # print(type(g))\n",
    "            print(type(from_bits_to_int(extr_bits(g^(K_EXP + mj + 2*(j+1)),Q3_n))))\n",
    "            if extr_bits(Q3_known_cts,Q3_n) == (ZZ(K_XOR_static) ^^ ZZ(from_bits_to_int(extr_bits(g^(K_EXP + mj + 2*(j+1)),Q3_n)))):\n",
    "                key_pairs.append((K_EXP, K_XOR_static))"
   ]
  },
  {
   "cell_type": "code",
   "execution_count": 85,
   "metadata": {},
   "outputs": [
    {
     "name": "stdout",
     "output_type": "stream",
     "text": [
      "2\n"
     ]
    }
   ],
   "source": [
    "mj_list = extr_bits(Q3_known_pt,2*3,length=8)\n",
    "mj = mj_list[0]*2 + mj_list[1]\n",
    "print(mj)\n"
   ]
  },
  {
   "cell_type": "code",
   "execution_count": 86,
   "metadata": {},
   "outputs": [
    {
     "data": {
      "text/plain": [
       "65358582236399098140383852530576291366163143046961680710706395821174671515158"
      ]
     },
     "execution_count": 86,
     "metadata": {},
     "output_type": "execute_result"
    }
   ],
   "source": [
    "#2 ^^ g^(2 + mj + 2(3+1))\n",
    "2 ^^ Integer(g^(2 + mj + 2*(0+1)))"
   ]
  },
  {
   "cell_type": "code",
   "execution_count": 87,
   "metadata": {},
   "outputs": [
    {
     "name": "stdout",
     "output_type": "stream",
     "text": [
      "1\n",
      "18897172015605387895108229785692294238197575884158182212205468678506383277799\n",
      "65358582236399098140383852530576291366163143046961680710706395821174671515156\n",
      "46461410220793710245275622744883997127965567162803498498500927142668288237358\n"
     ]
    }
   ],
   "source": [
    "for i in range(4):\n",
    "    print(Integer(g^i))"
   ]
  },
  {
   "cell_type": "code",
   "execution_count": 88,
   "metadata": {},
   "outputs": [
    {
     "data": {
      "text/plain": [
       "0"
      ]
     },
     "execution_count": 88,
     "metadata": {},
     "output_type": "execute_result"
    }
   ],
   "source": [
    "Integer(g) ^^ Integer(g)"
   ]
  },
  {
   "cell_type": "code",
   "execution_count": 89,
   "metadata": {},
   "outputs": [
    {
     "data": {
      "text/plain": [
       "0"
      ]
     },
     "execution_count": 89,
     "metadata": {},
     "output_type": "execute_result"
    }
   ],
   "source": [
    "Integer(g^7) ^^ Integer(g^(1+2+3+1))"
   ]
  },
  {
   "cell_type": "code",
   "execution_count": 90,
   "metadata": {},
   "outputs": [],
   "source": [
    "K_EXP = 1\n",
    "j=3"
   ]
  },
  {
   "cell_type": "code",
   "execution_count": 91,
   "metadata": {},
   "outputs": [
    {
     "name": "stdout",
     "output_type": "stream",
     "text": [
      "46461410220793710245275622744883997127965567162803498498500927142668288237358\n",
      "46461410220793710245275622744883997127965567162803498498500927142668288237359\n",
      "46461410220793710245275622744883997127965567162803498498500927142668288237356\n",
      "46461410220793710245275622744883997127965567162803498498500927142668288237357\n"
     ]
    }
   ],
   "source": [
    "K_EXP = 1\n",
    "j=3\n",
    "for K_XOR in range(4):\n",
    "    print(K_XOR ^^ Integer(g^(K_EXP + mj + 2*(j+1))))\n",
    "    "
   ]
  },
  {
   "cell_type": "code",
   "execution_count": 92,
   "metadata": {},
   "outputs": [
    {
     "data": {
      "text/plain": [
       "[1, 0]"
      ]
     },
     "execution_count": 92,
     "metadata": {},
     "output_type": "execute_result"
    }
   ],
   "source": [
    "extr_bits(g^(K_EXP + mj + 2*(j+1)),Q3_n)"
   ]
  },
  {
   "cell_type": "code",
   "execution_count": 93,
   "metadata": {},
   "outputs": [
    {
     "data": {
      "text/plain": [
       "0"
      ]
     },
     "execution_count": 93,
     "metadata": {},
     "output_type": "execute_result"
    }
   ],
   "source": [
    "2 ^^ from_bits_to_int(extr_bits(g^(K_EXP + mj + 2*(j+1)),Q3_n))"
   ]
  },
  {
   "cell_type": "code",
   "execution_count": 94,
   "metadata": {},
   "outputs": [
    {
     "data": {
      "text/plain": [
       "1"
      ]
     },
     "execution_count": 94,
     "metadata": {},
     "output_type": "execute_result"
    }
   ],
   "source": [
    "def from_bits_to_int(list):\n",
    "    a = list[0]*2 + list[1]\n",
    "    return a\n",
    "\n",
    "from_bits_to_int([0,1])"
   ]
  },
  {
   "cell_type": "code",
   "execution_count": null,
   "metadata": {},
   "outputs": [],
   "source": []
  }
 ],
 "metadata": {
  "kernelspec": {
   "display_name": "SageMath 10.1",
   "language": "sage",
   "name": "SageMath-10.1"
  },
  "language_info": {
   "codemirror_mode": {
    "name": "ipython",
    "version": 3
   },
   "file_extension": ".py",
   "mimetype": "text/x-python",
   "name": "python",
   "nbconvert_exporter": "python",
   "pygments_lexer": "ipython3",
   "version": "3.11.1"
  },
  "orig_nbformat": 4,
  "vscode": {
   "interpreter": {
    "hash": "aee8b7b246df8f9039afb4144a1f6fd8d2ca17a180786b69acc140d282b71a49"
   }
  }
 },
 "nbformat": 4,
 "nbformat_minor": 2
}
