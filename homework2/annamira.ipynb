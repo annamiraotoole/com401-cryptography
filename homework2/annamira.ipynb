{
 "cells": [
  {
   "cell_type": "code",
   "execution_count": 110,
   "id": "b752b005",
   "metadata": {},
   "outputs": [],
   "source": [
    "# my params\n",
    "\n",
    "Q3a_N=139318878921153532751499562761861928446507405098649008398219509064685868413912856527950494349759160792127809267494353909062242919460654617558230464503523072853970051251389009657389828676782408653856765866847406701730174973965838054507050235650693427895360582038941078988286943128651239704127657219089609607351\n",
    "Q3a_L=[71428917482626692140169982067862643920420275674669283364745508522809226069141807246524012607121901689983549896702173005394057157599972774611925964105467629064863660890458158323855562269186549518715877956626640975766345665444607083997104539023122776747077177264746821943616443140923900587609056528445625902170, 71428917482626692140169982067862643920420275674669283364745508522809226069141807246524012607121901689983549896702173005394057157599972774611925964105467629064863660890458158323855562269186549518715877956626640975766345665444607083997104539023122776747077177264746821943616443140923900587609056528445625892864, 127928008217276346167336361577656149625995083920413330033640857276488463844161655245001647533047423098521725503859508223718509333968445586126099209962932287246287906410910906759923368271156613625465043826961541638989424258943723093052260395099615387150476380996054707929519308722244956640308340832093776543744]\n",
    "Q3a_y=19735889032053983154057868876073728216664903734291099482618569146771209013497758865267510952598203047756225193926234102261865551167876941715818029461871888765765060092513537402467007462085036102443934130209613019358047841116721788655675144946688361076515275797917029535600762271496234408860381764181628353362\n"
   ]
  },
  {
   "cell_type": "markdown",
   "id": "2fd2e445",
   "metadata": {},
   "source": [
    "## Factor N ##"
   ]
  },
  {
   "cell_type": "code",
   "execution_count": 173,
   "id": "a9d3953b",
   "metadata": {},
   "outputs": [
    {
     "name": "stdout",
     "output_type": "stream",
     "text": [
      "Nontrivial root of 1 is  127928008217276346167336361577656149625995083920413330033640857276488463844161655245001647533047423098521725503859508223718509333968445586126099209962932287246287906410910906759923368271156613625465043826961541638989424258943723093052260395099615387150476380996054707929519308722244956640308340832093776545405\n",
      "Root squared mod N is  1\n",
      "First nontrivial factor of N is  13169420695771863846677571050430875414415295065454283167144895221620406447131662042099750516480336983695453551203674736697999446989548142691858914162956767\n",
      "Is P prime?   True\n",
      "Second nontrivial factor of N is  10578967909035121752358381405508655860431656165486745446246696102991019817035008002078381129073245564467182462917312046774196639554629163104731621051866153\n",
      "Is Q prime?   True\n",
      "Do the two nontrivial factors found multiply to N?   True\n"
     ]
    }
   ],
   "source": [
    "# get last element of the list of points\n",
    "\n",
    "last_elem_bits = Q3a_L[-1].bits()\n",
    "\n",
    "# brute force last 15 bits until we find a nontrivial root of 1\n",
    "\n",
    "bitlen = len(last_elem_bits)\n",
    "nontrivial_root = 0\n",
    "\n",
    "for n in range(0, 2**15):\n",
    "    \n",
    "    bits = Integer(n).bits()\n",
    "    \n",
    "    L = len(bits)\n",
    "    padded_bits = bits + ([0] * (15 - L))\n",
    "    \n",
    "    attempt = padded_bits + last_elem_bits[15:] \n",
    "    assert len(attempt) == bitlen\n",
    "    int_val = ZZ(attempt, base=2)\n",
    "    square = power_mod(int_val, 2, Q3a_N)\n",
    "    if square == 1:\n",
    "        nontrivial_root = int_val\n",
    "        break\n",
    "        \n",
    "\n",
    "    \n",
    "print(\"Nontrivial root of 1 is \", nontrivial_root)\n",
    "print(\"Root squared mod N is \", power_mod(nontrivial_root, 2, Q3a_N))\n",
    "\n",
    "# find GCD of N and the nontrivial root minus 1\n",
    "\n",
    "nontrivial_factor = GCD(Q3a_N, nontrivial_root - 1)\n",
    "P = nontrivial_factor\n",
    "Q = ZZ(Q3a_N / P)\n",
    "\n",
    "print(\"First nontrivial factor of N is \", P)\n",
    "print(\"Is P prime?  \", P.is_prime())\n",
    "print(\"Second nontrivial factor of N is \", Q)\n",
    "print(\"Is Q prime?  \", Q.is_prime())\n",
    "\n",
    "print(\"Do the two nontrivial factors found multiply to N?  \", P*Q == Q3a_N)\n",
    "\n",
    "# compute"
   ]
  },
  {
   "cell_type": "markdown",
   "id": "90337120",
   "metadata": {},
   "source": [
    "## Find quadratic residues with Tonelli's algorithm ##"
   ]
  },
  {
   "cell_type": "code",
   "execution_count": 175,
   "id": "91584ea0",
   "metadata": {},
   "outputs": [
    {
     "name": "stdout",
     "output_type": "stream",
     "text": [
      "\n",
      "Finding QRs mod P and Q...\n",
      "QR of y mod P is  103346012058626652677862313476730297922987086136184769876785561952040555384044923302685866248843953302112471781446570296510955044943426511201176195506531\n",
      "QR of y mod Q is  935366332157473761671052076845425084918182432539906338474585184867731388160894437427634236724101097241042826928861921230216521140125618481823410672715526\n",
      "\n",
      "Combining QRs of Y with CRT...\n",
      "\n",
      "Root number 0 of Y is:\n",
      "18706770755650775278330499303158974781573545913523812768447827121508365350505516774120279449502720513851332579179557193133216334299794619216671269639234897708489644380118674468968561061607311287203333989944941524522601643179238638725655909049965802701502058744035773972193557734354399576031406929679691302594\n",
      "\n",
      "Root number 1 of Y is:\n",
      "5039883748275420464856035882542695472975663371215103336349613118415860410221466624672863272678278937090819634799182444741048910556227462025204609828728278892902194171308404991309363611411867684783614966332161958474821540736418984263288827163968845316171710857973593382769208768267805334167093698181543471263\n",
      "\n",
      "Root number 2 of Y is:\n",
      "134278995172878112286643526879319232973531741727433905061869895946270008003691389903277631077080881855036989632695171464321194008904427155533025854674794793961067857080080604666080465065370540969073150900515244743255353433229419070243761408486724582579188871180967485605517734360383434369960563520908066136088\n",
      "\n",
      "Root number 3 of Y is:\n",
      "120612108165502757473169063458702953664933859185125195629771681943177503063407339753830214900256440278276476688314796715929026585160859998341559194864288175145480406871270335188421267615175097366653431876902465177207573330786599415781394326600727625193858523294905305016093385394296840128096250289409918304757\n",
      "\n"
     ]
    }
   ],
   "source": [
    "print()\n",
    "print(\"Finding QRs mod P and Q...\")\n",
    "\n",
    "Zn = Zmod(Q3a_N)\n",
    "Zp = Zmod(P)\n",
    "Zq = Zmod(Q)\n",
    "\n",
    "QR_modP = power_mod(Q3a_y, (P+1)/4, P) # square_root_mod_prime(Q3a_y, p=P)\n",
    "other = sqrt(Zp(Q3a_y))\n",
    "\n",
    "assert power_mod(QR_modP, 2, P) == (Q3a_y % P)\n",
    "assert other == QR_modP\n",
    "\n",
    "QR_modQ = sqrt(Zq(Q3a_y))\n",
    "\n",
    "assert power_mod(QR_modP, 2, P) == (Q3a_y % P)\n",
    "assert power_mod(QR_modQ, 2, Q) == (Q3a_y % Q)\n",
    "\n",
    "print(\"QR of y mod P is \", QR_modP)\n",
    "print(\"QR of y mod Q is \", QR_modQ)\n",
    "\n",
    "print()\n",
    "print(\"Combining QRs of Y with CRT...\")\n",
    "print()\n",
    "\n",
    "root00 = crt(ZZ(QR_modP), ZZ(QR_modQ), P, Q)\n",
    "root01 = crt(ZZ(QR_modP), ZZ(Zq(Q - QR_modQ)), P, Q)\n",
    "root10 = crt(ZZ(Zp(P - QR_modP)), ZZ(Zq(QR_modQ)), P, Q)\n",
    "root11 = crt(ZZ(Zp(P - QR_modP)), ZZ(Zq(Q - QR_modQ)), P, Q)\n",
    "\n",
    "rootsY = [root00, root01, root10, root11]\n",
    "\n",
    "# make sure no roots are duplicates\n",
    "assert(len(set(rootsY)) == 4)\n",
    "\n",
    "assert power_mod(root01, 2, Q3a_N) == Zn(Q3a_y)\n",
    "assert power_mod(root10, 2, Q3a_N) == Zn(Q3a_y)\n",
    "assert power_mod(root10, 2, Q3a_N) == Zn(Q3a_y)\n",
    "assert power_mod(root11, 2, Q3a_N) == Zn(Q3a_y)\n",
    "\n",
    "for i in range(4):\n",
    "    print(f\"Root number {i} of Y is:\")\n",
    "    print(rootsY[i])\n",
    "    print()"
   ]
  },
  {
   "cell_type": "code",
   "execution_count": null,
   "id": "71af400a",
   "metadata": {},
   "outputs": [],
   "source": []
  }
 ],
 "metadata": {
  "kernelspec": {
   "display_name": "SageMath 10.1",
   "language": "sage",
   "name": "sagemath"
  },
  "language_info": {
   "codemirror_mode": {
    "name": "ipython",
    "version": 3
   },
   "file_extension": ".py",
   "mimetype": "text/x-python",
   "name": "python",
   "nbconvert_exporter": "python",
   "pygments_lexer": "ipython3",
   "version": "3.11.1"
  }
 },
 "nbformat": 4,
 "nbformat_minor": 5
}
