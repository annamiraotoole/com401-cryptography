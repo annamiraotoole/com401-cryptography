{
 "cells": [
  {
   "cell_type": "code",
   "execution_count": 39,
   "id": "e1505aa4",
   "metadata": {},
   "outputs": [],
   "source": [
    "# my params\n",
    "\n",
    "Q3a_N=139318878921153532751499562761861928446507405098649008398219509064685868413912856527950494349759160792127809267494353909062242919460654617558230464503523072853970051251389009657389828676782408653856765866847406701730174973965838054507050235650693427895360582038941078988286943128651239704127657219089609607351\n",
    "Q3a_L=[71428917482626692140169982067862643920420275674669283364745508522809226069141807246524012607121901689983549896702173005394057157599972774611925964105467629064863660890458158323855562269186549518715877956626640975766345665444607083997104539023122776747077177264746821943616443140923900587609056528445625902170, 71428917482626692140169982067862643920420275674669283364745508522809226069141807246524012607121901689983549896702173005394057157599972774611925964105467629064863660890458158323855562269186549518715877956626640975766345665444607083997104539023122776747077177264746821943616443140923900587609056528445625892864, 127928008217276346167336361577656149625995083920413330033640857276488463844161655245001647533047423098521725503859508223718509333968445586126099209962932287246287906410910906759923368271156613625465043826961541638989424258943723093052260395099615387150476380996054707929519308722244956640308340832093776543744]\n",
    "Q3a_y=19735889032053983154057868876073728216664903734291099482618569146771209013497758865267510952598203047756225193926234102261865551167876941715818029461871888765765060092513537402467007462085036102443934130209613019358047841116721788655675144946688361076515275797917029535600762271496234408860381764181628353362\n",
    "Q3b_N=785455929752250522510968138141361402301811635023609801152518364528177179650609093778105734218115813442696018896530054015238461280519862421112736780897415576088605371696682805301898911041041149042871203201686638380070296950816804369202647688870766688169371759522803509101865592404353722456402111946669444724350138289519882472154510987057453867921860064773319705847162494416103066831184794711562311087497865088991332741717776495803471404766877350656958123863845239"
   ]
  },
  {
   "cell_type": "markdown",
   "id": "f687b5c1",
   "metadata": {},
   "source": [
    "## Factor N ##"
   ]
  },
  {
   "cell_type": "code",
   "execution_count": 40,
   "id": "1b785ff3",
   "metadata": {},
   "outputs": [
    {
     "name": "stdout",
     "output_type": "stream",
     "text": [
      "Nontrivial root of 1 is  127928008217276346167336361577656149625995083920413330033640857276488463844161655245001647533047423098521725503859508223718509333968445586126099209962932287246287906410910906759923368271156613625465043826961541638989424258943723093052260395099615387150476380996054707929519308722244956640308340832093776545405\n",
      "Root squared mod N is  1\n",
      "First nontrivial factor of N is  13169420695771863846677571050430875414415295065454283167144895221620406447131662042099750516480336983695453551203674736697999446989548142691858914162956767\n",
      "Is P prime?   True\n",
      "Second nontrivial factor of N is  10578967909035121752358381405508655860431656165486745446246696102991019817035008002078381129073245564467182462917312046774196639554629163104731621051866153\n",
      "Is Q prime?   True\n",
      "Do the two nontrivial factors found multiply to N?   True\n"
     ]
    }
   ],
   "source": [
    "# get last element of the list of points\n",
    "\n",
    "last_elem_bits = Q3a_L[-1].bits()\n",
    "\n",
    "# brute force last 15 bits until we find a nontrivial root of 1\n",
    "\n",
    "bitlen = len(last_elem_bits)\n",
    "nontrivial_root = 0\n",
    "\n",
    "for n in range(0, 2**15):\n",
    "    \n",
    "    bits = Integer(n).bits()\n",
    "    \n",
    "    L = len(bits)\n",
    "    padded_bits = bits + ([0] * (15 - L))\n",
    "    \n",
    "    attempt = padded_bits + last_elem_bits[15:] \n",
    "    assert len(attempt) == bitlen\n",
    "    int_val = ZZ(attempt, base=2)\n",
    "    square = power_mod(int_val, 2, Q3a_N)\n",
    "    if square == 1:\n",
    "        nontrivial_root = int_val\n",
    "        break\n",
    "        \n",
    "\n",
    "    \n",
    "print(\"Nontrivial root of 1 is \", nontrivial_root)\n",
    "print(\"Root squared mod N is \", power_mod(nontrivial_root, 2, Q3a_N))\n",
    "\n",
    "# find GCD of N and the nontrivial root minus 1\n",
    "\n",
    "nontrivial_factor = GCD(Q3a_N, nontrivial_root - 1)\n",
    "P = nontrivial_factor\n",
    "Q = Q3a_N / P\n",
    "\n",
    "print(\"First nontrivial factor of N is \", P)\n",
    "print(\"Is P prime?  \", P.is_prime())\n",
    "print(\"Second nontrivial factor of N is \", Q)\n",
    "print(\"Is Q prime?  \", ZZ(Q).is_prime())\n",
    "\n",
    "print(\"Do the two nontrivial factors found multiply to N?  \", P*Q == Q3a_N)\n",
    "\n",
    "# compute"
   ]
  },
  {
   "cell_type": "markdown",
   "id": "71524d0b",
   "metadata": {},
   "source": [
    "## Find quadratic residues with Tonelli's algorithm ##"
   ]
  },
  {
   "cell_type": "code",
   "execution_count": 51,
   "id": "3ea7e6d6",
   "metadata": {},
   "outputs": [
    {
     "ename": "NameError",
     "evalue": "name 'square_root_mod_prime' is not defined",
     "output_type": "error",
     "traceback": [
      "\u001b[0;31m---------------------------------------------------------------------------\u001b[0m",
      "\u001b[0;31mNameError\u001b[0m                                 Traceback (most recent call last)",
      "Cell \u001b[0;32mIn [51], line 3\u001b[0m\n\u001b[1;32m      1\u001b[0m \u001b[38;5;66;03m#import sage.rings.finite_rings.integer_mod.square_root_mod_prime\u001b[39;00m\n\u001b[0;32m----> 3\u001b[0m QR_modP \u001b[38;5;241m=\u001b[39m \u001b[43msquare_root_mod_prime\u001b[49m(Q3a_y, P)\n\u001b[1;32m      4\u001b[0m QR_modQ \u001b[38;5;241m=\u001b[39m square_root_mod_prime(Q3a_y, Q)\n\u001b[1;32m      6\u001b[0m \u001b[38;5;28;01massert\u001b[39;00m power_mod(QR_modP, Integer(\u001b[38;5;241m2\u001b[39m), P) \u001b[38;5;241m==\u001b[39m Integer(\u001b[38;5;241m1\u001b[39m)\n",
      "\u001b[0;31mNameError\u001b[0m: name 'square_root_mod_prime' is not defined"
     ]
    }
   ],
   "source": [
    "#import sage.rings.finite_rings.integer_mod.square_root_mod_prime\n",
    "\n",
    "QR_modP = square_root_mod_prime(Q3a_y, p=P)\n",
    "QR_modQ = square_root_mod_prime(Q3a_y, p=Q)\n",
    "\n",
    "assert power_mod(QR_modP, 2, P) == 1\n",
    "assert power_mod(QR_modQ, 2, Q) == 1"
   ]
  },
  {
   "cell_type": "code",
   "execution_count": null,
   "id": "7b056934",
   "metadata": {},
   "outputs": [],
   "source": []
  }
 ],
 "metadata": {
  "kernelspec": {
   "display_name": "SageMath 10.1",
   "language": "sage",
   "name": "sagemath"
  },
  "language_info": {
   "codemirror_mode": {
    "name": "ipython",
    "version": 3
   },
   "file_extension": ".py",
   "mimetype": "text/x-python",
   "name": "python",
   "nbconvert_exporter": "python",
   "pygments_lexer": "ipython3",
   "version": "3.11.1"
  }
 },
 "nbformat": 4,
 "nbformat_minor": 5
}
